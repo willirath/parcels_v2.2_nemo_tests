{
 "cells": [
  {
   "cell_type": "markdown",
   "metadata": {},
   "source": [
    "# Download and prepare NEMO data\n",
    "\n",
    "We'll download NEMO example data from https://doi.org/10.5281/zenodo.3755516.\n",
    "As these netCDF files come with a record dimension, and as record dimensions come with performance penaldies, we create a copy that only has fixed dimensions."
   ]
  },
  {
   "cell_type": "code",
   "execution_count": null,
   "metadata": {},
   "outputs": [],
   "source": [
    "# Parameters\n",
    "orig_data_dir = \"/data/parcels_v2.2_nemo_tests_data/orig/\"\n",
    "fixtime_data_dir = \"/data/parcels_v2.2_nemo_tests_data/fixtime/\"\n",
    "zenodo_record = 3755517"
   ]
  },
  {
   "cell_type": "code",
   "execution_count": null,
   "metadata": {},
   "outputs": [],
   "source": [
    "# Get proxy settings from /etc/environment.\n",
    "import os\n",
    "\n",
    "with open(\"/etc/environment\") as f:\n",
    "    for line in f.readlines():\n",
    "        if \"http_proxy\" in line or \"https_proxy\" in line:\n",
    "            key, val = tuple(line.strip().split(\"=\"))\n",
    "            val = val.strip(\"'\\\"\\n\")\n",
    "            os.environ[key] = val"
   ]
  },
  {
   "cell_type": "code",
   "execution_count": null,
   "metadata": {},
   "outputs": [],
   "source": [
    "# Download all files for the Zenodo record\n",
    "\n",
    "from pathlib import Path\n",
    "import requests\n",
    "from urllib.parse import urlparse\n",
    "\n",
    "def download_record_to(record_id, target_dir):\n",
    "    target_dir = Path(target_dir)\n",
    "    target_dir.mkdir(exist_ok=True, parents=True)\n",
    "    record = requests.get(url=f\"https://zenodo.org/api/records/{record_id}\").json()\n",
    "    urls  = [f[\"links\"][\"self\"] for f in record[\"files\"]]\n",
    "    targets = [target_dir / Path(urlparse(url).path).name for url in urls]\n",
    "    for url, target in zip(urls, targets):\n",
    "        if not target.exists():\n",
    "            !curl -o {str(target)} {str(url)}\n",
    "        else:\n",
    "            print(f\"{target} exists\")\n",
    "    return targets\n",
    "\n",
    "files = download_record_to(zenodo_record, orig_data_dir)"
   ]
  },
  {
   "cell_type": "code",
   "execution_count": null,
   "metadata": {},
   "outputs": [],
   "source": [
    "# Create fixed-dim directory and convert data files.\n",
    "\n",
    "Path(fixtime_data_dir).mkdir(parents=True, exist_ok=True)\n",
    "\n",
    "nc_files = Path(orig_data_dir).glob(\"*.nc\")\n",
    "for ncf in nc_files:\n",
    "    target_file = Path(fixtime_data_dir) / ncf.name\n",
    "    print(f\"will convert {str(ncf.name)} ...\")\n",
    "    !nccopy -u -7 {str(ncf)} {str(target_file)}  # fixed time dim and netcdf4-classic\n",
    "    print(f\"... {str(ncf.name)} done\")"
   ]
  }
 ],
 "metadata": {
  "kernelspec": {
   "display_name": "Python [conda env:py3_lagrange_parcels-v2.2.0]",
   "language": "python",
   "name": "conda-env-py3_lagrange_parcels-v2.2.0-py"
  },
  "language_info": {
   "codemirror_mode": {
    "name": "ipython",
    "version": 3
   },
   "file_extension": ".py",
   "mimetype": "text/x-python",
   "name": "python",
   "nbconvert_exporter": "python",
   "pygments_lexer": "ipython3",
   "version": "3.6.7"
  }
 },
 "nbformat": 4,
 "nbformat_minor": 4
}
