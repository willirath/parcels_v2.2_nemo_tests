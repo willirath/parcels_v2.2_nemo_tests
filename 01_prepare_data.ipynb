{
 "cells": [
  {
   "cell_type": "code",
   "execution_count": 1,
   "metadata": {},
   "outputs": [],
   "source": [
    "orig_data_dir = \"/data/parcels_v2.2_nemo_tests_data/orig/\"\n",
    "fixtime_data_dir = \"/data/parcels_v2.2_nemo_tests_data/fixtime/\"\n",
    "zenodo_record = 3755517"
   ]
  },
  {
   "cell_type": "code",
   "execution_count": 2,
   "metadata": {},
   "outputs": [],
   "source": [
    "import os"
   ]
  },
  {
   "cell_type": "code",
   "execution_count": 3,
   "metadata": {},
   "outputs": [],
   "source": [
    "# \"source\" proxy settings from /etc/environment \n",
    "with open(\"/etc/environment\") as f:\n",
    "    for line in f.readlines():\n",
    "        if \"http_proxy\" in line or \"https_proxy\" in line:\n",
    "            key, val = tuple(line.strip().split(\"=\"))\n",
    "            val = val.strip(\"'\\\"\\n\")\n",
    "            os.environ[key] = val"
   ]
  },
  {
   "cell_type": "code",
   "execution_count": 4,
   "metadata": {},
   "outputs": [],
   "source": [
    "from pathlib import Path\n",
    "import requests\n",
    "from urllib.parse import urlparse\n",
    "\n",
    "def download_record_to(record_id, target_dir):\n",
    "    target_dir = Path(target_dir)\n",
    "    target_dir.mkdir(exist_ok=True, parents=True)\n",
    "    record = requests.get(url=f\"https://zenodo.org/api/records/{record_id}\").json()\n",
    "    urls  = [f[\"links\"][\"self\"] for f in record[\"files\"]]\n",
    "    targets = [target_dir / Path(urlparse(url).path).name for url in urls]\n",
    "    for url, target in zip(urls, targets):\n",
    "        !curl -o {str(target)} {str(url)}\n",
    "    return targets"
   ]
  },
  {
   "cell_type": "code",
   "execution_count": null,
   "metadata": {},
   "outputs": [
    {
     "name": "stdout",
     "output_type": "stream",
     "text": [
      "  % Total    % Received % Xferd  Average Speed   Time    Time     Time  Current\n",
      "                                 Dload  Upload   Total   Spent    Left  Speed\n",
      "100 49.9M  100 49.9M    0     0  15.7M      0  0:00:03  0:00:03 --:--:-- 15.7M\n",
      "  % Total    % Received % Xferd  Average Speed   Time    Time     Time  Current\n",
      "                                 Dload  Upload   Total   Spent    Left  Speed\n",
      "  0     0    0     0    0     0      0      0 --:--:-- --:--:-- --:--:--     0"
     ]
    }
   ],
   "source": [
    "files = download_record_to(zenodo_record, orig_data_dir)"
   ]
  }
 ],
 "metadata": {
  "kernelspec": {
   "display_name": "Python 3",
   "language": "python",
   "name": "python3"
  },
  "language_info": {
   "codemirror_mode": {
    "name": "ipython",
    "version": 3
   },
   "file_extension": ".py",
   "mimetype": "text/x-python",
   "name": "python",
   "nbconvert_exporter": "python",
   "pygments_lexer": "ipython3",
   "version": "3.6.7"
  }
 },
 "nbformat": 4,
 "nbformat_minor": 4
}
